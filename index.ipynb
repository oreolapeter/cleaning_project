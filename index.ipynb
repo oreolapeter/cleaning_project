{
 "cells": [
  {
   "cell_type": "code",
   "execution_count": 97,
   "metadata": {},
   "outputs": [],
   "source": [
    "import numpy as np"
   ]
  },
  {
   "cell_type": "code",
   "execution_count": null,
   "metadata": {},
   "outputs": [],
   "source": []
  },
  {
   "cell_type": "code",
   "execution_count": 2,
   "metadata": {},
   "outputs": [],
   "source": [
    "import pandas as pd"
   ]
  },
  {
   "cell_type": "code",
   "execution_count": 3,
   "metadata": {},
   "outputs": [],
   "source": [
    "travel =pd.read_csv('https://drive.google.com/uc?id=1muwnik-uFGTKBdHmcQN5z68rD7qmdG-b') #extraxt the datset\n",
    "\n",
    "the_travel_data = travel.copy() # creates a copy of the dataset\n"
   ]
  },
  {
   "cell_type": "markdown",
   "metadata": {},
   "source": [
    "# Cleaning to be done\n",
    "\n",
    "### Change to the correct datatypes for Date column\n",
    "### deal with the null values by filling them appropiately\n",
    "### Separte the destination column to State and City\n",
    "### Separate the names appropiately\n"
   ]
  },
  {
   "cell_type": "code",
   "execution_count": 4,
   "metadata": {},
   "outputs": [
    {
     "data": {
      "text/plain": [
       "(418, 6)"
      ]
     },
     "execution_count": 4,
     "metadata": {},
     "output_type": "execute_result"
    }
   ],
   "source": [
    "the_travel_data.shape # understanding the data"
   ]
  },
  {
   "cell_type": "code",
   "execution_count": 5,
   "metadata": {},
   "outputs": [
    {
     "name": "stdout",
     "output_type": "stream",
     "text": [
      "<class 'pandas.core.frame.DataFrame'>\n",
      "RangeIndex: 418 entries, 0 to 417\n",
      "Data columns (total 6 columns):\n",
      " #   Column                 Non-Null Count  Dtype  \n",
      "---  ------                 --------------  -----  \n",
      " 0   Employee               418 non-null    object \n",
      " 1   Destination            418 non-null    object \n",
      " 2   Travel Start Date      418 non-null    object \n",
      " 3   Travel End Date        418 non-null    object \n",
      " 4   Actual Total Expenses  418 non-null    float64\n",
      " 5   Purpose Of Travel      415 non-null    object \n",
      "dtypes: float64(1), object(5)\n",
      "memory usage: 19.7+ KB\n"
     ]
    }
   ],
   "source": [
    "the_travel_data.info() #understanding the data"
   ]
  },
  {
   "cell_type": "code",
   "execution_count": 6,
   "metadata": {},
   "outputs": [
    {
     "data": {
      "text/html": [
       "<div>\n",
       "<style scoped>\n",
       "    .dataframe tbody tr th:only-of-type {\n",
       "        vertical-align: middle;\n",
       "    }\n",
       "\n",
       "    .dataframe tbody tr th {\n",
       "        vertical-align: top;\n",
       "    }\n",
       "\n",
       "    .dataframe thead th {\n",
       "        text-align: right;\n",
       "    }\n",
       "</style>\n",
       "<table border=\"1\" class=\"dataframe\">\n",
       "  <thead>\n",
       "    <tr style=\"text-align: right;\">\n",
       "      <th></th>\n",
       "      <th>Employee</th>\n",
       "      <th>Destination</th>\n",
       "      <th>Travel Start Date</th>\n",
       "      <th>Travel End Date</th>\n",
       "      <th>Actual Total Expenses</th>\n",
       "      <th>Purpose Of Travel</th>\n",
       "    </tr>\n",
       "  </thead>\n",
       "  <tbody>\n",
       "    <tr>\n",
       "      <th>0</th>\n",
       "      <td>Aaron Salter</td>\n",
       "      <td>OCEAN CITY, MD</td>\n",
       "      <td>2017-05-31</td>\n",
       "      <td>2017-06-02</td>\n",
       "      <td>644.10</td>\n",
       "      <td>Conference</td>\n",
       "    </tr>\n",
       "    <tr>\n",
       "      <th>1</th>\n",
       "      <td>Abigail Ratnofsky</td>\n",
       "      <td>SAN DIEGO, CA</td>\n",
       "      <td>2016-01-24</td>\n",
       "      <td>2016-01-29</td>\n",
       "      <td>2962.70</td>\n",
       "      <td>Conference</td>\n",
       "    </tr>\n",
       "    <tr>\n",
       "      <th>2</th>\n",
       "      <td>Adam Kisthardt</td>\n",
       "      <td>ORLANDO, FL</td>\n",
       "      <td>2018-10-04</td>\n",
       "      <td>2018-10-09</td>\n",
       "      <td>1891.19</td>\n",
       "      <td>Conference</td>\n",
       "    </tr>\n",
       "    <tr>\n",
       "      <th>3</th>\n",
       "      <td>Adam P. Jones</td>\n",
       "      <td>OCEAN CITY, MD</td>\n",
       "      <td>2016-06-19</td>\n",
       "      <td>2016-06-21</td>\n",
       "      <td>324.36</td>\n",
       "      <td>Conference</td>\n",
       "    </tr>\n",
       "    <tr>\n",
       "      <th>4</th>\n",
       "      <td>Alan Butsch</td>\n",
       "      <td>SAN DIEGO, CA</td>\n",
       "      <td>2019-11-19</td>\n",
       "      <td>2019-11-22</td>\n",
       "      <td>2141.51</td>\n",
       "      <td>Conference</td>\n",
       "    </tr>\n",
       "    <tr>\n",
       "      <th>...</th>\n",
       "      <td>...</td>\n",
       "      <td>...</td>\n",
       "      <td>...</td>\n",
       "      <td>...</td>\n",
       "      <td>...</td>\n",
       "      <td>...</td>\n",
       "    </tr>\n",
       "    <tr>\n",
       "      <th>413</th>\n",
       "      <td>Warren Jensen!</td>\n",
       "      <td>OCEAN CITY, MD</td>\n",
       "      <td>2017-11-06</td>\n",
       "      <td>2017-11-09</td>\n",
       "      <td>502.45</td>\n",
       "      <td>Conference</td>\n",
       "    </tr>\n",
       "    <tr>\n",
       "      <th>414</th>\n",
       "      <td>Warp Jensen</td>\n",
       "      <td>OCEAN CITY, MD</td>\n",
       "      <td>2019-03-25</td>\n",
       "      <td>2019-03-26</td>\n",
       "      <td>78.00</td>\n",
       "      <td>Conference</td>\n",
       "    </tr>\n",
       "    <tr>\n",
       "      <th>415</th>\n",
       "      <td>Whitney Kujawa</td>\n",
       "      <td>OCEAN CITY, MD</td>\n",
       "      <td>2017-11-06</td>\n",
       "      <td>2017-11-09</td>\n",
       "      <td>567.00</td>\n",
       "      <td>Conference</td>\n",
       "    </tr>\n",
       "    <tr>\n",
       "      <th>416</th>\n",
       "      <td>William Kinna</td>\n",
       "      <td>CHARLOTTE, NC</td>\n",
       "      <td>2017-05-21</td>\n",
       "      <td>2017-05-26</td>\n",
       "      <td>2163.67</td>\n",
       "      <td>Conference</td>\n",
       "    </tr>\n",
       "    <tr>\n",
       "      <th>417</th>\n",
       "      <td>Xin Qi</td>\n",
       "      <td>OCEAN CITY, MD</td>\n",
       "      <td>2019-08-13</td>\n",
       "      <td>2019-08-17</td>\n",
       "      <td>2107.51</td>\n",
       "      <td>Conference</td>\n",
       "    </tr>\n",
       "  </tbody>\n",
       "</table>\n",
       "<p>418 rows × 6 columns</p>\n",
       "</div>"
      ],
      "text/plain": [
       "              Employee     Destination Travel Start Date Travel End Date  \\\n",
       "0         Aaron Salter  OCEAN CITY, MD        2017-05-31      2017-06-02   \n",
       "1    Abigail Ratnofsky   SAN DIEGO, CA        2016-01-24      2016-01-29   \n",
       "2       Adam Kisthardt     ORLANDO, FL        2018-10-04      2018-10-09   \n",
       "3        Adam P. Jones  OCEAN CITY, MD        2016-06-19      2016-06-21   \n",
       "4          Alan Butsch   SAN DIEGO, CA        2019-11-19      2019-11-22   \n",
       "..                 ...             ...               ...             ...   \n",
       "413     Warren Jensen!  OCEAN CITY, MD   2017-11-06           2017-11-09   \n",
       "414        Warp Jensen  OCEAN CITY, MD        2019-03-25      2019-03-26   \n",
       "415     Whitney Kujawa  OCEAN CITY, MD        2017-11-06      2017-11-09   \n",
       "416      William Kinna   CHARLOTTE, NC        2017-05-21      2017-05-26   \n",
       "417             Xin Qi  OCEAN CITY, MD        2019-08-13      2019-08-17   \n",
       "\n",
       "     Actual Total Expenses Purpose Of Travel  \n",
       "0                   644.10        Conference  \n",
       "1                  2962.70        Conference  \n",
       "2                  1891.19        Conference  \n",
       "3                   324.36        Conference  \n",
       "4                  2141.51        Conference  \n",
       "..                     ...               ...  \n",
       "413                 502.45        Conference  \n",
       "414                  78.00        Conference  \n",
       "415                 567.00        Conference  \n",
       "416                2163.67        Conference  \n",
       "417                2107.51        Conference  \n",
       "\n",
       "[418 rows x 6 columns]"
      ]
     },
     "execution_count": 6,
     "metadata": {},
     "output_type": "execute_result"
    }
   ],
   "source": [
    "the_travel_data.drop_duplicates() # remove the the duplicate"
   ]
  },
  {
   "cell_type": "code",
   "execution_count": 7,
   "metadata": {},
   "outputs": [],
   "source": [
    "# function to clean the white space\n",
    "\n",
    "def clean_whitespace(text):\n",
    "    if type(text) == str:\n",
    "        return text.strip()\n",
    "    return text"
   ]
  },
  {
   "cell_type": "code",
   "execution_count": 8,
   "metadata": {},
   "outputs": [],
   "source": [
    "the_travel_data['Travel End Date'] = the_travel_data['Travel End Date'].apply(clean_whitespace) #remove white space from the date columns"
   ]
  },
  {
   "cell_type": "code",
   "execution_count": 9,
   "metadata": {},
   "outputs": [],
   "source": [
    "the_travel_data['Travel Start Date'] = the_travel_data['Travel Start Date'].apply(clean_whitespace) #remove white space from the date columns"
   ]
  },
  {
   "cell_type": "code",
   "execution_count": 10,
   "metadata": {},
   "outputs": [
    {
     "name": "stdout",
     "output_type": "stream",
     "text": [
      "<class 'pandas.core.frame.DataFrame'>\n",
      "RangeIndex: 418 entries, 0 to 417\n",
      "Data columns (total 6 columns):\n",
      " #   Column                 Non-Null Count  Dtype         \n",
      "---  ------                 --------------  -----         \n",
      " 0   Employee               418 non-null    object        \n",
      " 1   Destination            418 non-null    object        \n",
      " 2   Travel Start Date      418 non-null    datetime64[ns]\n",
      " 3   Travel End Date        418 non-null    datetime64[ns]\n",
      " 4   Actual Total Expenses  418 non-null    float64       \n",
      " 5   Purpose Of Travel      415 non-null    object        \n",
      "dtypes: datetime64[ns](2), float64(1), object(3)\n",
      "memory usage: 19.7+ KB\n"
     ]
    }
   ],
   "source": [
    "the_travel_data['Travel Start Date'] = pd.to_datetime(the_travel_data['Travel Start Date']) #Correct the data type of the date columns\n",
    "\n",
    "the_travel_data['Travel End Date'] = pd.to_datetime(the_travel_data['Travel End Date']) #Correct the data type of the date columns\n",
    "\n",
    "\n",
    "the_travel_data.info() #checking that changes are applied"
   ]
  },
  {
   "cell_type": "code",
   "execution_count": 11,
   "metadata": {},
   "outputs": [],
   "source": [
    "the_travel_data['Purpose Of Travel']= the_travel_data['Purpose Of Travel'].fillna('Not provided') # fill the null value appropiately\n",
    "\n"
   ]
  },
  {
   "cell_type": "code",
   "execution_count": 12,
   "metadata": {},
   "outputs": [
    {
     "data": {
      "text/html": [
       "<div>\n",
       "<style scoped>\n",
       "    .dataframe tbody tr th:only-of-type {\n",
       "        vertical-align: middle;\n",
       "    }\n",
       "\n",
       "    .dataframe tbody tr th {\n",
       "        vertical-align: top;\n",
       "    }\n",
       "\n",
       "    .dataframe thead th {\n",
       "        text-align: right;\n",
       "    }\n",
       "</style>\n",
       "<table border=\"1\" class=\"dataframe\">\n",
       "  <thead>\n",
       "    <tr style=\"text-align: right;\">\n",
       "      <th></th>\n",
       "      <th>Employee</th>\n",
       "      <th>Destination</th>\n",
       "      <th>Travel Start Date</th>\n",
       "      <th>Travel End Date</th>\n",
       "      <th>Actual Total Expenses</th>\n",
       "      <th>Purpose Of Travel</th>\n",
       "    </tr>\n",
       "  </thead>\n",
       "  <tbody>\n",
       "    <tr>\n",
       "      <th>0</th>\n",
       "      <td>Aaron Salter</td>\n",
       "      <td>OCEAN CITY, MD</td>\n",
       "      <td>2017-05-31</td>\n",
       "      <td>2017-06-02</td>\n",
       "      <td>644.10</td>\n",
       "      <td>Conference</td>\n",
       "    </tr>\n",
       "    <tr>\n",
       "      <th>266</th>\n",
       "      <td>Marjorie Roher</td>\n",
       "      <td>OCEAN CITY, MD</td>\n",
       "      <td>2017-06-07</td>\n",
       "      <td>2017-06-08</td>\n",
       "      <td>443.23</td>\n",
       "      <td>Conference</td>\n",
       "    </tr>\n",
       "    <tr>\n",
       "      <th>265</th>\n",
       "      <td>Mel Williams</td>\n",
       "      <td>OCEAN CITY, MD</td>\n",
       "      <td>2019-06-23</td>\n",
       "      <td>2019-06-25</td>\n",
       "      <td>339.02</td>\n",
       "      <td>Conference</td>\n",
       "    </tr>\n",
       "    <tr>\n",
       "      <th>264</th>\n",
       "      <td>Mario Mastrangelo</td>\n",
       "      <td>ATLANTA, GA</td>\n",
       "      <td>2016-04-18</td>\n",
       "      <td>2016-04-22</td>\n",
       "      <td>1421.02</td>\n",
       "      <td>Conference</td>\n",
       "    </tr>\n",
       "    <tr>\n",
       "      <th>263</th>\n",
       "      <td>Marianne Souders</td>\n",
       "      <td>OCEAN CITY, MD</td>\n",
       "      <td>2016-05-30</td>\n",
       "      <td>2016-06-04</td>\n",
       "      <td>982.02</td>\n",
       "      <td>Conference</td>\n",
       "    </tr>\n",
       "    <tr>\n",
       "      <th>...</th>\n",
       "      <td>...</td>\n",
       "      <td>...</td>\n",
       "      <td>...</td>\n",
       "      <td>...</td>\n",
       "      <td>...</td>\n",
       "      <td>...</td>\n",
       "    </tr>\n",
       "    <tr>\n",
       "      <th>203</th>\n",
       "      <td>Joseph Sabolic</td>\n",
       "      <td>AUSTIN, TX</td>\n",
       "      <td>2017-12-17</td>\n",
       "      <td>2017-12-20</td>\n",
       "      <td>1760.59</td>\n",
       "      <td>Vendor</td>\n",
       "    </tr>\n",
       "    <tr>\n",
       "      <th>292</th>\n",
       "      <td>Michael Nesselt</td>\n",
       "      <td>LOS ANGELES, CA</td>\n",
       "      <td>2019-10-15</td>\n",
       "      <td>2019-10-17</td>\n",
       "      <td>803.69</td>\n",
       "      <td>Vendor</td>\n",
       "    </tr>\n",
       "    <tr>\n",
       "      <th>330</th>\n",
       "      <td>Phillip Martin</td>\n",
       "      <td>LOS ANGELES, CA</td>\n",
       "      <td>2019-08-05</td>\n",
       "      <td>2019-08-07</td>\n",
       "      <td>1126.79</td>\n",
       "      <td>Vendor</td>\n",
       "    </tr>\n",
       "    <tr>\n",
       "      <th>227</th>\n",
       "      <td>Kevin Killeavy</td>\n",
       "      <td>LOS ANGELES, CA</td>\n",
       "      <td>2016-03-06</td>\n",
       "      <td>2016-03-07</td>\n",
       "      <td>1767.35</td>\n",
       "      <td>Vendor</td>\n",
       "    </tr>\n",
       "    <tr>\n",
       "      <th>161</th>\n",
       "      <td>James P Graham</td>\n",
       "      <td>LAS VEGAS, NV</td>\n",
       "      <td>2017-04-23</td>\n",
       "      <td>2017-04-27</td>\n",
       "      <td>1768.57</td>\n",
       "      <td>Vendor</td>\n",
       "    </tr>\n",
       "  </tbody>\n",
       "</table>\n",
       "<p>418 rows × 6 columns</p>\n",
       "</div>"
      ],
      "text/plain": [
       "              Employee      Destination Travel Start Date Travel End Date  \\\n",
       "0         Aaron Salter   OCEAN CITY, MD        2017-05-31      2017-06-02   \n",
       "266     Marjorie Roher   OCEAN CITY, MD        2017-06-07      2017-06-08   \n",
       "265       Mel Williams   OCEAN CITY, MD        2019-06-23      2019-06-25   \n",
       "264  Mario Mastrangelo      ATLANTA, GA        2016-04-18      2016-04-22   \n",
       "263   Marianne Souders   OCEAN CITY, MD        2016-05-30      2016-06-04   \n",
       "..                 ...              ...               ...             ...   \n",
       "203     Joseph Sabolic       AUSTIN, TX        2017-12-17      2017-12-20   \n",
       "292    Michael Nesselt  LOS ANGELES, CA        2019-10-15      2019-10-17   \n",
       "330     Phillip Martin  LOS ANGELES, CA        2019-08-05      2019-08-07   \n",
       "227     Kevin Killeavy  LOS ANGELES, CA        2016-03-06      2016-03-07   \n",
       "161     James P Graham    LAS VEGAS, NV        2017-04-23      2017-04-27   \n",
       "\n",
       "     Actual Total Expenses Purpose Of Travel  \n",
       "0                   644.10        Conference  \n",
       "266                 443.23        Conference  \n",
       "265                 339.02        Conference  \n",
       "264                1421.02        Conference  \n",
       "263                 982.02        Conference  \n",
       "..                     ...               ...  \n",
       "203                1760.59            Vendor  \n",
       "292                 803.69            Vendor  \n",
       "330                1126.79            Vendor  \n",
       "227                1767.35            Vendor  \n",
       "161                1768.57            Vendor  \n",
       "\n",
       "[418 rows x 6 columns]"
      ]
     },
     "execution_count": 12,
     "metadata": {},
     "output_type": "execute_result"
    }
   ],
   "source": [
    "\n",
    "the_travel_data.sort_values(by= 'Purpose Of Travel')"
   ]
  },
  {
   "cell_type": "code",
   "execution_count": 13,
   "metadata": {},
   "outputs": [
    {
     "name": "stdout",
     "output_type": "stream",
     "text": [
      "<class 'pandas.core.frame.DataFrame'>\n",
      "RangeIndex: 418 entries, 0 to 417\n",
      "Data columns (total 6 columns):\n",
      " #   Column                 Non-Null Count  Dtype         \n",
      "---  ------                 --------------  -----         \n",
      " 0   Employee               418 non-null    object        \n",
      " 1   Destination            418 non-null    object        \n",
      " 2   Travel Start Date      418 non-null    datetime64[ns]\n",
      " 3   Travel End Date        418 non-null    datetime64[ns]\n",
      " 4   Actual Total Expenses  418 non-null    float64       \n",
      " 5   Purpose Of Travel      418 non-null    object        \n",
      "dtypes: datetime64[ns](2), float64(1), object(3)\n",
      "memory usage: 19.7+ KB\n"
     ]
    }
   ],
   "source": [
    "the_travel_data.info()"
   ]
  },
  {
   "cell_type": "code",
   "execution_count": 14,
   "metadata": {},
   "outputs": [],
   "source": [
    "# functions to split necessary columns\n",
    "\n",
    "def extract_state(text):\n",
    "    result = text.split(',')[1]\n",
    "\n",
    "    return result\n",
    "\n",
    "\n",
    "def extract_city(text):\n",
    "    result = text.split(',')[0]\n",
    "\n",
    "    return result.title()\n",
    "\n",
    "def extract_surname(text):\n",
    "    text = text.strip()\n",
    "    result = text.split(' ')[-1]\n",
    "    return result\n",
    "\n",
    "def extract_firstname(text):\n",
    "    text = text.strip()\n",
    "    result = text.split(' ')[0]\n",
    "    return result\n",
    "\n",
    "def extract_year(text):\n",
    "    text = str(text)\n",
    "    result = text.split('-')[0]\n",
    "    return result\n",
    "\n",
    "def extract_month(text):\n",
    "    text = str(text)\n",
    "    result = text.split('-')[1]\n",
    "    return result\n",
    "\n",
    "def extract_day(text):\n",
    "    text = str(text)\n",
    "    result = text.split('-')[-1]\n",
    "    return result"
   ]
  },
  {
   "cell_type": "code",
   "execution_count": 15,
   "metadata": {},
   "outputs": [],
   "source": [
    "the_travel_data['Year'] = the_travel_data['Travel Start Date'].apply(extract_year)"
   ]
  },
  {
   "cell_type": "code",
   "execution_count": 16,
   "metadata": {},
   "outputs": [],
   "source": [
    "def clean_special_xter(text):\n",
    "\n",
    "    special_characters = ['!', '@', '#', '$', '%', '^', '&', '*', '(', ')', '-', '_', '=', '+', '[', ']', '{', '}', '\\\\', '|', ';', ':', \"'\", '\"', ',', '<', '.', '>', '/', '?', '~', '`']\n",
    "    for xter in special_characters:\n",
    "        if xter in text:\n",
    "            return text.replace(xter,'')\n",
    "    \n",
    "    return text"
   ]
  },
  {
   "cell_type": "code",
   "execution_count": 17,
   "metadata": {},
   "outputs": [],
   "source": [
    "the_travel_data['Employee'] = the_travel_data['Employee'].apply(clean_special_xter) #this should remove the special character"
   ]
  },
  {
   "cell_type": "code",
   "execution_count": 18,
   "metadata": {},
   "outputs": [],
   "source": [
    "the_travel_data['Surname'] = the_travel_data['Employee'].apply(extract_surname) # Separating the names\n",
    "\n"
   ]
  },
  {
   "cell_type": "code",
   "execution_count": 19,
   "metadata": {},
   "outputs": [],
   "source": [
    "the_travel_data['First Name'] = the_travel_data['Employee'].apply(extract_firstname) # Separating the names"
   ]
  },
  {
   "cell_type": "code",
   "execution_count": 20,
   "metadata": {},
   "outputs": [],
   "source": [
    "the_travel_data['State'] =the_travel_data['Destination'].apply(extract_state) #Separating the Destination to Sate and city"
   ]
  },
  {
   "cell_type": "code",
   "execution_count": 21,
   "metadata": {},
   "outputs": [],
   "source": [
    "the_travel_data['City'] =the_travel_data['Destination'].apply(extract_city) #Separating the Destination to Sate and city"
   ]
  },
  {
   "cell_type": "code",
   "execution_count": 22,
   "metadata": {},
   "outputs": [
    {
     "data": {
      "text/html": [
       "<div>\n",
       "<style scoped>\n",
       "    .dataframe tbody tr th:only-of-type {\n",
       "        vertical-align: middle;\n",
       "    }\n",
       "\n",
       "    .dataframe tbody tr th {\n",
       "        vertical-align: top;\n",
       "    }\n",
       "\n",
       "    .dataframe thead th {\n",
       "        text-align: right;\n",
       "    }\n",
       "</style>\n",
       "<table border=\"1\" class=\"dataframe\">\n",
       "  <thead>\n",
       "    <tr style=\"text-align: right;\">\n",
       "      <th></th>\n",
       "      <th>Employee</th>\n",
       "      <th>Destination</th>\n",
       "      <th>Travel Start Date</th>\n",
       "      <th>Travel End Date</th>\n",
       "      <th>Actual Total Expenses</th>\n",
       "      <th>Purpose Of Travel</th>\n",
       "      <th>Year</th>\n",
       "      <th>Surname</th>\n",
       "      <th>First Name</th>\n",
       "      <th>State</th>\n",
       "      <th>City</th>\n",
       "    </tr>\n",
       "  </thead>\n",
       "  <tbody>\n",
       "    <tr>\n",
       "      <th>0</th>\n",
       "      <td>Aaron Salter</td>\n",
       "      <td>OCEAN CITY, MD</td>\n",
       "      <td>2017-05-31</td>\n",
       "      <td>2017-06-02</td>\n",
       "      <td>644.10</td>\n",
       "      <td>Conference</td>\n",
       "      <td>2017</td>\n",
       "      <td>Salter</td>\n",
       "      <td>Aaron</td>\n",
       "      <td>MD</td>\n",
       "      <td>Ocean City</td>\n",
       "    </tr>\n",
       "    <tr>\n",
       "      <th>1</th>\n",
       "      <td>Abigail Ratnofsky</td>\n",
       "      <td>SAN DIEGO, CA</td>\n",
       "      <td>2016-01-24</td>\n",
       "      <td>2016-01-29</td>\n",
       "      <td>2962.70</td>\n",
       "      <td>Conference</td>\n",
       "      <td>2016</td>\n",
       "      <td>Ratnofsky</td>\n",
       "      <td>Abigail</td>\n",
       "      <td>CA</td>\n",
       "      <td>San Diego</td>\n",
       "    </tr>\n",
       "    <tr>\n",
       "      <th>2</th>\n",
       "      <td>Adam Kisthardt</td>\n",
       "      <td>ORLANDO, FL</td>\n",
       "      <td>2018-10-04</td>\n",
       "      <td>2018-10-09</td>\n",
       "      <td>1891.19</td>\n",
       "      <td>Conference</td>\n",
       "      <td>2018</td>\n",
       "      <td>Kisthardt</td>\n",
       "      <td>Adam</td>\n",
       "      <td>FL</td>\n",
       "      <td>Orlando</td>\n",
       "    </tr>\n",
       "    <tr>\n",
       "      <th>3</th>\n",
       "      <td>Adam P Jones</td>\n",
       "      <td>OCEAN CITY, MD</td>\n",
       "      <td>2016-06-19</td>\n",
       "      <td>2016-06-21</td>\n",
       "      <td>324.36</td>\n",
       "      <td>Conference</td>\n",
       "      <td>2016</td>\n",
       "      <td>Jones</td>\n",
       "      <td>Adam</td>\n",
       "      <td>MD</td>\n",
       "      <td>Ocean City</td>\n",
       "    </tr>\n",
       "    <tr>\n",
       "      <th>4</th>\n",
       "      <td>Alan Butsch</td>\n",
       "      <td>SAN DIEGO, CA</td>\n",
       "      <td>2019-11-19</td>\n",
       "      <td>2019-11-22</td>\n",
       "      <td>2141.51</td>\n",
       "      <td>Conference</td>\n",
       "      <td>2019</td>\n",
       "      <td>Butsch</td>\n",
       "      <td>Alan</td>\n",
       "      <td>CA</td>\n",
       "      <td>San Diego</td>\n",
       "    </tr>\n",
       "    <tr>\n",
       "      <th>...</th>\n",
       "      <td>...</td>\n",
       "      <td>...</td>\n",
       "      <td>...</td>\n",
       "      <td>...</td>\n",
       "      <td>...</td>\n",
       "      <td>...</td>\n",
       "      <td>...</td>\n",
       "      <td>...</td>\n",
       "      <td>...</td>\n",
       "      <td>...</td>\n",
       "      <td>...</td>\n",
       "    </tr>\n",
       "    <tr>\n",
       "      <th>413</th>\n",
       "      <td>Warren Jensen</td>\n",
       "      <td>OCEAN CITY, MD</td>\n",
       "      <td>2017-11-06</td>\n",
       "      <td>2017-11-09</td>\n",
       "      <td>502.45</td>\n",
       "      <td>Conference</td>\n",
       "      <td>2017</td>\n",
       "      <td>Jensen</td>\n",
       "      <td>Warren</td>\n",
       "      <td>MD</td>\n",
       "      <td>Ocean City</td>\n",
       "    </tr>\n",
       "    <tr>\n",
       "      <th>414</th>\n",
       "      <td>Warp Jensen</td>\n",
       "      <td>OCEAN CITY, MD</td>\n",
       "      <td>2019-03-25</td>\n",
       "      <td>2019-03-26</td>\n",
       "      <td>78.00</td>\n",
       "      <td>Conference</td>\n",
       "      <td>2019</td>\n",
       "      <td>Jensen</td>\n",
       "      <td>Warp</td>\n",
       "      <td>MD</td>\n",
       "      <td>Ocean City</td>\n",
       "    </tr>\n",
       "    <tr>\n",
       "      <th>415</th>\n",
       "      <td>Whitney Kujawa</td>\n",
       "      <td>OCEAN CITY, MD</td>\n",
       "      <td>2017-11-06</td>\n",
       "      <td>2017-11-09</td>\n",
       "      <td>567.00</td>\n",
       "      <td>Conference</td>\n",
       "      <td>2017</td>\n",
       "      <td>Kujawa</td>\n",
       "      <td>Whitney</td>\n",
       "      <td>MD</td>\n",
       "      <td>Ocean City</td>\n",
       "    </tr>\n",
       "    <tr>\n",
       "      <th>416</th>\n",
       "      <td>William Kinna</td>\n",
       "      <td>CHARLOTTE, NC</td>\n",
       "      <td>2017-05-21</td>\n",
       "      <td>2017-05-26</td>\n",
       "      <td>2163.67</td>\n",
       "      <td>Conference</td>\n",
       "      <td>2017</td>\n",
       "      <td>Kinna</td>\n",
       "      <td>William</td>\n",
       "      <td>NC</td>\n",
       "      <td>Charlotte</td>\n",
       "    </tr>\n",
       "    <tr>\n",
       "      <th>417</th>\n",
       "      <td>Xin Qi</td>\n",
       "      <td>OCEAN CITY, MD</td>\n",
       "      <td>2019-08-13</td>\n",
       "      <td>2019-08-17</td>\n",
       "      <td>2107.51</td>\n",
       "      <td>Conference</td>\n",
       "      <td>2019</td>\n",
       "      <td>Qi</td>\n",
       "      <td>Xin</td>\n",
       "      <td>MD</td>\n",
       "      <td>Ocean City</td>\n",
       "    </tr>\n",
       "  </tbody>\n",
       "</table>\n",
       "<p>418 rows × 11 columns</p>\n",
       "</div>"
      ],
      "text/plain": [
       "              Employee     Destination Travel Start Date Travel End Date  \\\n",
       "0         Aaron Salter  OCEAN CITY, MD        2017-05-31      2017-06-02   \n",
       "1    Abigail Ratnofsky   SAN DIEGO, CA        2016-01-24      2016-01-29   \n",
       "2       Adam Kisthardt     ORLANDO, FL        2018-10-04      2018-10-09   \n",
       "3         Adam P Jones  OCEAN CITY, MD        2016-06-19      2016-06-21   \n",
       "4          Alan Butsch   SAN DIEGO, CA        2019-11-19      2019-11-22   \n",
       "..                 ...             ...               ...             ...   \n",
       "413      Warren Jensen  OCEAN CITY, MD        2017-11-06      2017-11-09   \n",
       "414        Warp Jensen  OCEAN CITY, MD        2019-03-25      2019-03-26   \n",
       "415     Whitney Kujawa  OCEAN CITY, MD        2017-11-06      2017-11-09   \n",
       "416      William Kinna   CHARLOTTE, NC        2017-05-21      2017-05-26   \n",
       "417             Xin Qi  OCEAN CITY, MD        2019-08-13      2019-08-17   \n",
       "\n",
       "     Actual Total Expenses Purpose Of Travel  Year    Surname First Name  \\\n",
       "0                   644.10        Conference  2017     Salter      Aaron   \n",
       "1                  2962.70        Conference  2016  Ratnofsky    Abigail   \n",
       "2                  1891.19        Conference  2018  Kisthardt       Adam   \n",
       "3                   324.36        Conference  2016      Jones       Adam   \n",
       "4                  2141.51        Conference  2019     Butsch       Alan   \n",
       "..                     ...               ...   ...        ...        ...   \n",
       "413                 502.45        Conference  2017     Jensen     Warren   \n",
       "414                  78.00        Conference  2019     Jensen       Warp   \n",
       "415                 567.00        Conference  2017     Kujawa    Whitney   \n",
       "416                2163.67        Conference  2017      Kinna    William   \n",
       "417                2107.51        Conference  2019         Qi        Xin   \n",
       "\n",
       "    State        City  \n",
       "0      MD  Ocean City  \n",
       "1      CA   San Diego  \n",
       "2      FL     Orlando  \n",
       "3      MD  Ocean City  \n",
       "4      CA   San Diego  \n",
       "..    ...         ...  \n",
       "413    MD  Ocean City  \n",
       "414    MD  Ocean City  \n",
       "415    MD  Ocean City  \n",
       "416    NC   Charlotte  \n",
       "417    MD  Ocean City  \n",
       "\n",
       "[418 rows x 11 columns]"
      ]
     },
     "execution_count": 22,
     "metadata": {},
     "output_type": "execute_result"
    }
   ],
   "source": [
    "the_travel_data"
   ]
  },
  {
   "cell_type": "code",
   "execution_count": 23,
   "metadata": {},
   "outputs": [
    {
     "data": {
      "text/html": [
       "<div>\n",
       "<style scoped>\n",
       "    .dataframe tbody tr th:only-of-type {\n",
       "        vertical-align: middle;\n",
       "    }\n",
       "\n",
       "    .dataframe tbody tr th {\n",
       "        vertical-align: top;\n",
       "    }\n",
       "\n",
       "    .dataframe thead th {\n",
       "        text-align: right;\n",
       "    }\n",
       "</style>\n",
       "<table border=\"1\" class=\"dataframe\">\n",
       "  <thead>\n",
       "    <tr style=\"text-align: right;\">\n",
       "      <th></th>\n",
       "      <th>Employee</th>\n",
       "      <th>Destination</th>\n",
       "      <th>Travel Start Date</th>\n",
       "      <th>Travel End Date</th>\n",
       "      <th>Actual Total Expenses</th>\n",
       "      <th>Purpose Of Travel</th>\n",
       "      <th>Surname</th>\n",
       "      <th>First Name</th>\n",
       "      <th>State</th>\n",
       "      <th>City</th>\n",
       "    </tr>\n",
       "  </thead>\n",
       "  <tbody>\n",
       "    <tr>\n",
       "      <th>0</th>\n",
       "      <td>Aaron Salter</td>\n",
       "      <td>OCEAN CITY, MD</td>\n",
       "      <td>2017-05-31</td>\n",
       "      <td>2017-06-02</td>\n",
       "      <td>644.10</td>\n",
       "      <td>Conference</td>\n",
       "      <td>Salter</td>\n",
       "      <td>Aaron</td>\n",
       "      <td>MD</td>\n",
       "      <td>Ocean City</td>\n",
       "    </tr>\n",
       "    <tr>\n",
       "      <th>1</th>\n",
       "      <td>Abigail Ratnofsky</td>\n",
       "      <td>SAN DIEGO, CA</td>\n",
       "      <td>2016-01-24</td>\n",
       "      <td>2016-01-29</td>\n",
       "      <td>2962.70</td>\n",
       "      <td>Conference</td>\n",
       "      <td>Ratnofsky</td>\n",
       "      <td>Abigail</td>\n",
       "      <td>CA</td>\n",
       "      <td>San Diego</td>\n",
       "    </tr>\n",
       "    <tr>\n",
       "      <th>2</th>\n",
       "      <td>Adam Kisthardt</td>\n",
       "      <td>ORLANDO, FL</td>\n",
       "      <td>2018-10-04</td>\n",
       "      <td>2018-10-09</td>\n",
       "      <td>1891.19</td>\n",
       "      <td>Conference</td>\n",
       "      <td>Kisthardt</td>\n",
       "      <td>Adam</td>\n",
       "      <td>FL</td>\n",
       "      <td>Orlando</td>\n",
       "    </tr>\n",
       "    <tr>\n",
       "      <th>3</th>\n",
       "      <td>Adam P Jones</td>\n",
       "      <td>OCEAN CITY, MD</td>\n",
       "      <td>2016-06-19</td>\n",
       "      <td>2016-06-21</td>\n",
       "      <td>324.36</td>\n",
       "      <td>Conference</td>\n",
       "      <td>Jones</td>\n",
       "      <td>Adam</td>\n",
       "      <td>MD</td>\n",
       "      <td>Ocean City</td>\n",
       "    </tr>\n",
       "    <tr>\n",
       "      <th>4</th>\n",
       "      <td>Alan Butsch</td>\n",
       "      <td>SAN DIEGO, CA</td>\n",
       "      <td>2019-11-19</td>\n",
       "      <td>2019-11-22</td>\n",
       "      <td>2141.51</td>\n",
       "      <td>Conference</td>\n",
       "      <td>Butsch</td>\n",
       "      <td>Alan</td>\n",
       "      <td>CA</td>\n",
       "      <td>San Diego</td>\n",
       "    </tr>\n",
       "    <tr>\n",
       "      <th>...</th>\n",
       "      <td>...</td>\n",
       "      <td>...</td>\n",
       "      <td>...</td>\n",
       "      <td>...</td>\n",
       "      <td>...</td>\n",
       "      <td>...</td>\n",
       "      <td>...</td>\n",
       "      <td>...</td>\n",
       "      <td>...</td>\n",
       "      <td>...</td>\n",
       "    </tr>\n",
       "    <tr>\n",
       "      <th>413</th>\n",
       "      <td>Warren Jensen</td>\n",
       "      <td>OCEAN CITY, MD</td>\n",
       "      <td>2017-11-06</td>\n",
       "      <td>2017-11-09</td>\n",
       "      <td>502.45</td>\n",
       "      <td>Conference</td>\n",
       "      <td>Jensen</td>\n",
       "      <td>Warren</td>\n",
       "      <td>MD</td>\n",
       "      <td>Ocean City</td>\n",
       "    </tr>\n",
       "    <tr>\n",
       "      <th>414</th>\n",
       "      <td>Warp Jensen</td>\n",
       "      <td>OCEAN CITY, MD</td>\n",
       "      <td>2019-03-25</td>\n",
       "      <td>2019-03-26</td>\n",
       "      <td>78.00</td>\n",
       "      <td>Conference</td>\n",
       "      <td>Jensen</td>\n",
       "      <td>Warp</td>\n",
       "      <td>MD</td>\n",
       "      <td>Ocean City</td>\n",
       "    </tr>\n",
       "    <tr>\n",
       "      <th>415</th>\n",
       "      <td>Whitney Kujawa</td>\n",
       "      <td>OCEAN CITY, MD</td>\n",
       "      <td>2017-11-06</td>\n",
       "      <td>2017-11-09</td>\n",
       "      <td>567.00</td>\n",
       "      <td>Conference</td>\n",
       "      <td>Kujawa</td>\n",
       "      <td>Whitney</td>\n",
       "      <td>MD</td>\n",
       "      <td>Ocean City</td>\n",
       "    </tr>\n",
       "    <tr>\n",
       "      <th>416</th>\n",
       "      <td>William Kinna</td>\n",
       "      <td>CHARLOTTE, NC</td>\n",
       "      <td>2017-05-21</td>\n",
       "      <td>2017-05-26</td>\n",
       "      <td>2163.67</td>\n",
       "      <td>Conference</td>\n",
       "      <td>Kinna</td>\n",
       "      <td>William</td>\n",
       "      <td>NC</td>\n",
       "      <td>Charlotte</td>\n",
       "    </tr>\n",
       "    <tr>\n",
       "      <th>417</th>\n",
       "      <td>Xin Qi</td>\n",
       "      <td>OCEAN CITY, MD</td>\n",
       "      <td>2019-08-13</td>\n",
       "      <td>2019-08-17</td>\n",
       "      <td>2107.51</td>\n",
       "      <td>Conference</td>\n",
       "      <td>Qi</td>\n",
       "      <td>Xin</td>\n",
       "      <td>MD</td>\n",
       "      <td>Ocean City</td>\n",
       "    </tr>\n",
       "  </tbody>\n",
       "</table>\n",
       "<p>418 rows × 10 columns</p>\n",
       "</div>"
      ],
      "text/plain": [
       "              Employee     Destination Travel Start Date Travel End Date  \\\n",
       "0         Aaron Salter  OCEAN CITY, MD        2017-05-31      2017-06-02   \n",
       "1    Abigail Ratnofsky   SAN DIEGO, CA        2016-01-24      2016-01-29   \n",
       "2       Adam Kisthardt     ORLANDO, FL        2018-10-04      2018-10-09   \n",
       "3         Adam P Jones  OCEAN CITY, MD        2016-06-19      2016-06-21   \n",
       "4          Alan Butsch   SAN DIEGO, CA        2019-11-19      2019-11-22   \n",
       "..                 ...             ...               ...             ...   \n",
       "413      Warren Jensen  OCEAN CITY, MD        2017-11-06      2017-11-09   \n",
       "414        Warp Jensen  OCEAN CITY, MD        2019-03-25      2019-03-26   \n",
       "415     Whitney Kujawa  OCEAN CITY, MD        2017-11-06      2017-11-09   \n",
       "416      William Kinna   CHARLOTTE, NC        2017-05-21      2017-05-26   \n",
       "417             Xin Qi  OCEAN CITY, MD        2019-08-13      2019-08-17   \n",
       "\n",
       "     Actual Total Expenses Purpose Of Travel    Surname First Name State  \\\n",
       "0                   644.10        Conference     Salter      Aaron    MD   \n",
       "1                  2962.70        Conference  Ratnofsky    Abigail    CA   \n",
       "2                  1891.19        Conference  Kisthardt       Adam    FL   \n",
       "3                   324.36        Conference      Jones       Adam    MD   \n",
       "4                  2141.51        Conference     Butsch       Alan    CA   \n",
       "..                     ...               ...        ...        ...   ...   \n",
       "413                 502.45        Conference     Jensen     Warren    MD   \n",
       "414                  78.00        Conference     Jensen       Warp    MD   \n",
       "415                 567.00        Conference     Kujawa    Whitney    MD   \n",
       "416                2163.67        Conference      Kinna    William    NC   \n",
       "417                2107.51        Conference         Qi        Xin    MD   \n",
       "\n",
       "           City  \n",
       "0    Ocean City  \n",
       "1     San Diego  \n",
       "2       Orlando  \n",
       "3    Ocean City  \n",
       "4     San Diego  \n",
       "..          ...  \n",
       "413  Ocean City  \n",
       "414  Ocean City  \n",
       "415  Ocean City  \n",
       "416   Charlotte  \n",
       "417  Ocean City  \n",
       "\n",
       "[418 rows x 10 columns]"
      ]
     },
     "execution_count": 23,
     "metadata": {},
     "output_type": "execute_result"
    }
   ],
   "source": [
    "the_travel_data.drop(columns=['Year']) # Delete the Year column"
   ]
  },
  {
   "cell_type": "code",
   "execution_count": 24,
   "metadata": {},
   "outputs": [
    {
     "name": "stdout",
     "output_type": "stream",
     "text": [
      "<class 'pandas.core.frame.DataFrame'>\n",
      "RangeIndex: 418 entries, 0 to 417\n",
      "Data columns (total 11 columns):\n",
      " #   Column                 Non-Null Count  Dtype         \n",
      "---  ------                 --------------  -----         \n",
      " 0   Employee               418 non-null    object        \n",
      " 1   Destination            418 non-null    object        \n",
      " 2   Travel Start Date      418 non-null    datetime64[ns]\n",
      " 3   Travel End Date        418 non-null    datetime64[ns]\n",
      " 4   Actual Total Expenses  418 non-null    float64       \n",
      " 5   Purpose Of Travel      418 non-null    object        \n",
      " 6   Year                   418 non-null    object        \n",
      " 7   Surname                418 non-null    object        \n",
      " 8   First Name             418 non-null    object        \n",
      " 9   State                  418 non-null    object        \n",
      " 10  City                   418 non-null    object        \n",
      "dtypes: datetime64[ns](2), float64(1), object(8)\n",
      "memory usage: 36.1+ KB\n"
     ]
    }
   ],
   "source": [
    "the_travel_data.info()"
   ]
  },
  {
   "cell_type": "code",
   "execution_count": 25,
   "metadata": {},
   "outputs": [],
   "source": [
    "columns = ['First Name', 'Surname','State','City','Travel Start Date','Travel End Date','Actual Total Expenses','Purpose Of Travel']\n",
    "\n",
    "Final_Travel_data = the_travel_data[columns]\n",
    "\n",
    "Final_Travel_data.to_csv('Cleaned Travel Dataset')"
   ]
  },
  {
   "cell_type": "markdown",
   "metadata": {},
   "source": [
    "## Demography"
   ]
  },
  {
   "cell_type": "code",
   "execution_count": 71,
   "metadata": {},
   "outputs": [],
   "source": [
    "url = 'https://public.opendatasoft.com/api/explore/v2.1/catalog/datasets/us-cities-demographics/exports/json?lang=en&timezone=Africa%2FLagos'\n",
    "\n",
    "demography = pd.read_json(url)\n",
    "\n"
   ]
  },
  {
   "cell_type": "code",
   "execution_count": 72,
   "metadata": {},
   "outputs": [],
   "source": [
    "demography_data = demography.copy()"
   ]
  },
  {
   "cell_type": "code",
   "execution_count": 73,
   "metadata": {},
   "outputs": [
    {
     "data": {
      "text/plain": [
       "(2891, 12)"
      ]
     },
     "execution_count": 73,
     "metadata": {},
     "output_type": "execute_result"
    }
   ],
   "source": [
    "demography_data.shape"
   ]
  },
  {
   "cell_type": "code",
   "execution_count": 74,
   "metadata": {},
   "outputs": [
    {
     "name": "stdout",
     "output_type": "stream",
     "text": [
      "<class 'pandas.core.frame.DataFrame'>\n",
      "RangeIndex: 2891 entries, 0 to 2890\n",
      "Data columns (total 12 columns):\n",
      " #   Column                  Non-Null Count  Dtype  \n",
      "---  ------                  --------------  -----  \n",
      " 0   city                    2891 non-null   object \n",
      " 1   state                   2891 non-null   object \n",
      " 2   median_age              2891 non-null   float64\n",
      " 3   male_population         2888 non-null   float64\n",
      " 4   female_population       2888 non-null   float64\n",
      " 5   total_population        2891 non-null   int64  \n",
      " 6   number_of_veterans      2878 non-null   float64\n",
      " 7   foreign_born            2878 non-null   float64\n",
      " 8   average_household_size  2875 non-null   float64\n",
      " 9   state_code              2891 non-null   object \n",
      " 10  race                    2891 non-null   object \n",
      " 11  count                   2891 non-null   int64  \n",
      "dtypes: float64(6), int64(2), object(4)\n",
      "memory usage: 271.2+ KB\n"
     ]
    }
   ],
   "source": [
    "demography_data.info()"
   ]
  },
  {
   "cell_type": "code",
   "execution_count": 98,
   "metadata": {},
   "outputs": [],
   "source": [
    "def convert_to_int(num):\n",
    "   if num == None:\n",
    "      return None\n",
    "   else:\n",
    "      return np.float64(num)\n"
   ]
  },
  {
   "cell_type": "code",
   "execution_count": 77,
   "metadata": {},
   "outputs": [
    {
     "data": {
      "text/plain": [
       "35"
      ]
     },
     "execution_count": 77,
     "metadata": {},
     "output_type": "execute_result"
    }
   ],
   "source": [
    "num = 35.6\n",
    "\n",
    "convert_to_int(num)"
   ]
  },
  {
   "cell_type": "code",
   "execution_count": 90,
   "metadata": {},
   "outputs": [],
   "source": [
    "demography_data['male_population'] = demography_data['male_population'].fillna(0)"
   ]
  },
  {
   "cell_type": "code",
   "execution_count": 111,
   "metadata": {},
   "outputs": [],
   "source": [
    "def round_num(result):\n",
    "    if result == None:\n",
    "        return None\n",
    "    else:\n",
    "        return round(result)"
   ]
  },
  {
   "cell_type": "code",
   "execution_count": 112,
   "metadata": {},
   "outputs": [
    {
     "ename": "ValueError",
     "evalue": "cannot convert float NaN to integer",
     "output_type": "error",
     "traceback": [
      "\u001b[1;31m---------------------------------------------------------------------------\u001b[0m",
      "\u001b[1;31mValueError\u001b[0m                                Traceback (most recent call last)",
      "Cell \u001b[1;32mIn[112], line 1\u001b[0m\n\u001b[1;32m----> 1\u001b[0m demography_data[\u001b[38;5;124m'\u001b[39m\u001b[38;5;124mmale_population\u001b[39m\u001b[38;5;124m'\u001b[39m] \u001b[38;5;241m=\u001b[39m \u001b[43mdemography_data\u001b[49m\u001b[43m[\u001b[49m\u001b[38;5;124;43m'\u001b[39;49m\u001b[38;5;124;43mmale_population\u001b[39;49m\u001b[38;5;124;43m'\u001b[39;49m\u001b[43m]\u001b[49m\u001b[38;5;241;43m.\u001b[39;49m\u001b[43mapply\u001b[49m\u001b[43m(\u001b[49m\u001b[43mround_num\u001b[49m\u001b[43m)\u001b[49m\n",
      "File \u001b[1;32m~\\AppData\\Local\\Packages\\PythonSoftwareFoundation.Python.3.11_qbz5n2kfra8p0\\LocalCache\\local-packages\\Python311\\site-packages\\pandas\\core\\series.py:4764\u001b[0m, in \u001b[0;36mSeries.apply\u001b[1;34m(self, func, convert_dtype, args, by_row, **kwargs)\u001b[0m\n\u001b[0;32m   4629\u001b[0m \u001b[38;5;28;01mdef\u001b[39;00m \u001b[38;5;21mapply\u001b[39m(\n\u001b[0;32m   4630\u001b[0m     \u001b[38;5;28mself\u001b[39m,\n\u001b[0;32m   4631\u001b[0m     func: AggFuncType,\n\u001b[1;32m   (...)\u001b[0m\n\u001b[0;32m   4636\u001b[0m     \u001b[38;5;241m*\u001b[39m\u001b[38;5;241m*\u001b[39mkwargs,\n\u001b[0;32m   4637\u001b[0m ) \u001b[38;5;241m-\u001b[39m\u001b[38;5;241m>\u001b[39m DataFrame \u001b[38;5;241m|\u001b[39m Series:\n\u001b[0;32m   4638\u001b[0m \u001b[38;5;250m    \u001b[39m\u001b[38;5;124;03m\"\"\"\u001b[39;00m\n\u001b[0;32m   4639\u001b[0m \u001b[38;5;124;03m    Invoke function on values of Series.\u001b[39;00m\n\u001b[0;32m   4640\u001b[0m \n\u001b[1;32m   (...)\u001b[0m\n\u001b[0;32m   4755\u001b[0m \u001b[38;5;124;03m    dtype: float64\u001b[39;00m\n\u001b[0;32m   4756\u001b[0m \u001b[38;5;124;03m    \"\"\"\u001b[39;00m\n\u001b[0;32m   4757\u001b[0m     \u001b[38;5;28;01mreturn\u001b[39;00m \u001b[43mSeriesApply\u001b[49m\u001b[43m(\u001b[49m\n\u001b[0;32m   4758\u001b[0m \u001b[43m        \u001b[49m\u001b[38;5;28;43mself\u001b[39;49m\u001b[43m,\u001b[49m\n\u001b[0;32m   4759\u001b[0m \u001b[43m        \u001b[49m\u001b[43mfunc\u001b[49m\u001b[43m,\u001b[49m\n\u001b[0;32m   4760\u001b[0m \u001b[43m        \u001b[49m\u001b[43mconvert_dtype\u001b[49m\u001b[38;5;241;43m=\u001b[39;49m\u001b[43mconvert_dtype\u001b[49m\u001b[43m,\u001b[49m\n\u001b[0;32m   4761\u001b[0m \u001b[43m        \u001b[49m\u001b[43mby_row\u001b[49m\u001b[38;5;241;43m=\u001b[39;49m\u001b[43mby_row\u001b[49m\u001b[43m,\u001b[49m\n\u001b[0;32m   4762\u001b[0m \u001b[43m        \u001b[49m\u001b[43margs\u001b[49m\u001b[38;5;241;43m=\u001b[39;49m\u001b[43margs\u001b[49m\u001b[43m,\u001b[49m\n\u001b[0;32m   4763\u001b[0m \u001b[43m        \u001b[49m\u001b[43mkwargs\u001b[49m\u001b[38;5;241;43m=\u001b[39;49m\u001b[43mkwargs\u001b[49m\u001b[43m,\u001b[49m\n\u001b[1;32m-> 4764\u001b[0m \u001b[43m    \u001b[49m\u001b[43m)\u001b[49m\u001b[38;5;241;43m.\u001b[39;49m\u001b[43mapply\u001b[49m\u001b[43m(\u001b[49m\u001b[43m)\u001b[49m\n",
      "File \u001b[1;32m~\\AppData\\Local\\Packages\\PythonSoftwareFoundation.Python.3.11_qbz5n2kfra8p0\\LocalCache\\local-packages\\Python311\\site-packages\\pandas\\core\\apply.py:1209\u001b[0m, in \u001b[0;36mSeriesApply.apply\u001b[1;34m(self)\u001b[0m\n\u001b[0;32m   1206\u001b[0m     \u001b[38;5;28;01mreturn\u001b[39;00m \u001b[38;5;28mself\u001b[39m\u001b[38;5;241m.\u001b[39mapply_compat()\n\u001b[0;32m   1208\u001b[0m \u001b[38;5;66;03m# self.func is Callable\u001b[39;00m\n\u001b[1;32m-> 1209\u001b[0m \u001b[38;5;28;01mreturn\u001b[39;00m \u001b[38;5;28;43mself\u001b[39;49m\u001b[38;5;241;43m.\u001b[39;49m\u001b[43mapply_standard\u001b[49m\u001b[43m(\u001b[49m\u001b[43m)\u001b[49m\n",
      "File \u001b[1;32m~\\AppData\\Local\\Packages\\PythonSoftwareFoundation.Python.3.11_qbz5n2kfra8p0\\LocalCache\\local-packages\\Python311\\site-packages\\pandas\\core\\apply.py:1289\u001b[0m, in \u001b[0;36mSeriesApply.apply_standard\u001b[1;34m(self)\u001b[0m\n\u001b[0;32m   1283\u001b[0m \u001b[38;5;66;03m# row-wise access\u001b[39;00m\n\u001b[0;32m   1284\u001b[0m \u001b[38;5;66;03m# apply doesn't have a `na_action` keyword and for backward compat reasons\u001b[39;00m\n\u001b[0;32m   1285\u001b[0m \u001b[38;5;66;03m# we need to give `na_action=\"ignore\"` for categorical data.\u001b[39;00m\n\u001b[0;32m   1286\u001b[0m \u001b[38;5;66;03m# TODO: remove the `na_action=\"ignore\"` when that default has been changed in\u001b[39;00m\n\u001b[0;32m   1287\u001b[0m \u001b[38;5;66;03m#  Categorical (GH51645).\u001b[39;00m\n\u001b[0;32m   1288\u001b[0m action \u001b[38;5;241m=\u001b[39m \u001b[38;5;124m\"\u001b[39m\u001b[38;5;124mignore\u001b[39m\u001b[38;5;124m\"\u001b[39m \u001b[38;5;28;01mif\u001b[39;00m \u001b[38;5;28misinstance\u001b[39m(obj\u001b[38;5;241m.\u001b[39mdtype, CategoricalDtype) \u001b[38;5;28;01melse\u001b[39;00m \u001b[38;5;28;01mNone\u001b[39;00m\n\u001b[1;32m-> 1289\u001b[0m mapped \u001b[38;5;241m=\u001b[39m \u001b[43mobj\u001b[49m\u001b[38;5;241;43m.\u001b[39;49m\u001b[43m_map_values\u001b[49m\u001b[43m(\u001b[49m\n\u001b[0;32m   1290\u001b[0m \u001b[43m    \u001b[49m\u001b[43mmapper\u001b[49m\u001b[38;5;241;43m=\u001b[39;49m\u001b[43mcurried\u001b[49m\u001b[43m,\u001b[49m\u001b[43m \u001b[49m\u001b[43mna_action\u001b[49m\u001b[38;5;241;43m=\u001b[39;49m\u001b[43maction\u001b[49m\u001b[43m,\u001b[49m\u001b[43m \u001b[49m\u001b[43mconvert\u001b[49m\u001b[38;5;241;43m=\u001b[39;49m\u001b[38;5;28;43mself\u001b[39;49m\u001b[38;5;241;43m.\u001b[39;49m\u001b[43mconvert_dtype\u001b[49m\n\u001b[0;32m   1291\u001b[0m \u001b[43m\u001b[49m\u001b[43m)\u001b[49m\n\u001b[0;32m   1293\u001b[0m \u001b[38;5;28;01mif\u001b[39;00m \u001b[38;5;28mlen\u001b[39m(mapped) \u001b[38;5;129;01mand\u001b[39;00m \u001b[38;5;28misinstance\u001b[39m(mapped[\u001b[38;5;241m0\u001b[39m], ABCSeries):\n\u001b[0;32m   1294\u001b[0m     \u001b[38;5;66;03m# GH#43986 Need to do list(mapped) in order to get treated as nested\u001b[39;00m\n\u001b[0;32m   1295\u001b[0m     \u001b[38;5;66;03m#  See also GH#25959 regarding EA support\u001b[39;00m\n\u001b[0;32m   1296\u001b[0m     \u001b[38;5;28;01mreturn\u001b[39;00m obj\u001b[38;5;241m.\u001b[39m_constructor_expanddim(\u001b[38;5;28mlist\u001b[39m(mapped), index\u001b[38;5;241m=\u001b[39mobj\u001b[38;5;241m.\u001b[39mindex)\n",
      "File \u001b[1;32m~\\AppData\\Local\\Packages\\PythonSoftwareFoundation.Python.3.11_qbz5n2kfra8p0\\LocalCache\\local-packages\\Python311\\site-packages\\pandas\\core\\base.py:921\u001b[0m, in \u001b[0;36mIndexOpsMixin._map_values\u001b[1;34m(self, mapper, na_action, convert)\u001b[0m\n\u001b[0;32m    918\u001b[0m \u001b[38;5;28;01mif\u001b[39;00m \u001b[38;5;28misinstance\u001b[39m(arr, ExtensionArray):\n\u001b[0;32m    919\u001b[0m     \u001b[38;5;28;01mreturn\u001b[39;00m arr\u001b[38;5;241m.\u001b[39mmap(mapper, na_action\u001b[38;5;241m=\u001b[39mna_action)\n\u001b[1;32m--> 921\u001b[0m \u001b[38;5;28;01mreturn\u001b[39;00m \u001b[43malgorithms\u001b[49m\u001b[38;5;241;43m.\u001b[39;49m\u001b[43mmap_array\u001b[49m\u001b[43m(\u001b[49m\u001b[43marr\u001b[49m\u001b[43m,\u001b[49m\u001b[43m \u001b[49m\u001b[43mmapper\u001b[49m\u001b[43m,\u001b[49m\u001b[43m \u001b[49m\u001b[43mna_action\u001b[49m\u001b[38;5;241;43m=\u001b[39;49m\u001b[43mna_action\u001b[49m\u001b[43m,\u001b[49m\u001b[43m \u001b[49m\u001b[43mconvert\u001b[49m\u001b[38;5;241;43m=\u001b[39;49m\u001b[43mconvert\u001b[49m\u001b[43m)\u001b[49m\n",
      "File \u001b[1;32m~\\AppData\\Local\\Packages\\PythonSoftwareFoundation.Python.3.11_qbz5n2kfra8p0\\LocalCache\\local-packages\\Python311\\site-packages\\pandas\\core\\algorithms.py:1814\u001b[0m, in \u001b[0;36mmap_array\u001b[1;34m(arr, mapper, na_action, convert)\u001b[0m\n\u001b[0;32m   1812\u001b[0m values \u001b[38;5;241m=\u001b[39m arr\u001b[38;5;241m.\u001b[39mastype(\u001b[38;5;28mobject\u001b[39m, copy\u001b[38;5;241m=\u001b[39m\u001b[38;5;28;01mFalse\u001b[39;00m)\n\u001b[0;32m   1813\u001b[0m \u001b[38;5;28;01mif\u001b[39;00m na_action \u001b[38;5;129;01mis\u001b[39;00m \u001b[38;5;28;01mNone\u001b[39;00m:\n\u001b[1;32m-> 1814\u001b[0m     \u001b[38;5;28;01mreturn\u001b[39;00m \u001b[43mlib\u001b[49m\u001b[38;5;241;43m.\u001b[39;49m\u001b[43mmap_infer\u001b[49m\u001b[43m(\u001b[49m\u001b[43mvalues\u001b[49m\u001b[43m,\u001b[49m\u001b[43m \u001b[49m\u001b[43mmapper\u001b[49m\u001b[43m,\u001b[49m\u001b[43m \u001b[49m\u001b[43mconvert\u001b[49m\u001b[38;5;241;43m=\u001b[39;49m\u001b[43mconvert\u001b[49m\u001b[43m)\u001b[49m\n\u001b[0;32m   1815\u001b[0m \u001b[38;5;28;01melse\u001b[39;00m:\n\u001b[0;32m   1816\u001b[0m     \u001b[38;5;28;01mreturn\u001b[39;00m lib\u001b[38;5;241m.\u001b[39mmap_infer_mask(\n\u001b[0;32m   1817\u001b[0m         values, mapper, mask\u001b[38;5;241m=\u001b[39misna(values)\u001b[38;5;241m.\u001b[39mview(np\u001b[38;5;241m.\u001b[39muint8), convert\u001b[38;5;241m=\u001b[39mconvert\n\u001b[0;32m   1818\u001b[0m     )\n",
      "File \u001b[1;32mlib.pyx:2926\u001b[0m, in \u001b[0;36mpandas._libs.lib.map_infer\u001b[1;34m()\u001b[0m\n",
      "Cell \u001b[1;32mIn[111], line 5\u001b[0m, in \u001b[0;36mround_num\u001b[1;34m(result)\u001b[0m\n\u001b[0;32m      3\u001b[0m     \u001b[38;5;28;01mreturn\u001b[39;00m \u001b[38;5;28;01mNone\u001b[39;00m\n\u001b[0;32m      4\u001b[0m \u001b[38;5;28;01melse\u001b[39;00m:\n\u001b[1;32m----> 5\u001b[0m     \u001b[38;5;28;01mreturn\u001b[39;00m \u001b[38;5;28mround\u001b[39m(result)\n",
      "\u001b[1;31mValueError\u001b[0m: cannot convert float NaN to integer"
     ]
    }
   ],
   "source": [
    "demography_data['male_population'] = demography_data['male_population'].apply(round_num)"
   ]
  },
  {
   "cell_type": "code",
   "execution_count": 100,
   "metadata": {},
   "outputs": [],
   "source": [
    "def change_to_none(number):\n",
    "    if number == 0:\n",
    "        return None\n",
    "    else:\n",
    "        return int(number)"
   ]
  },
  {
   "cell_type": "code",
   "execution_count": 94,
   "metadata": {},
   "outputs": [],
   "source": [
    "demography_data['male_population'] = demography_data['male_population'].apply(change_to_none)"
   ]
  },
  {
   "cell_type": "code",
   "execution_count": 102,
   "metadata": {},
   "outputs": [
    {
     "name": "stdout",
     "output_type": "stream",
     "text": [
      "<class 'pandas.core.frame.DataFrame'>\n",
      "RangeIndex: 2891 entries, 0 to 2890\n",
      "Data columns (total 12 columns):\n",
      " #   Column                  Non-Null Count  Dtype  \n",
      "---  ------                  --------------  -----  \n",
      " 0   city                    2891 non-null   object \n",
      " 1   state                   2891 non-null   object \n",
      " 2   median_age              2891 non-null   float64\n",
      " 3   male_population         2888 non-null   float64\n",
      " 4   female_population       2888 non-null   float64\n",
      " 5   total_population        2891 non-null   int64  \n",
      " 6   number_of_veterans      2878 non-null   float64\n",
      " 7   foreign_born            2878 non-null   float64\n",
      " 8   average_household_size  2875 non-null   float64\n",
      " 9   state_code              2891 non-null   object \n",
      " 10  race                    2891 non-null   object \n",
      " 11  count                   2891 non-null   int64  \n",
      "dtypes: float64(6), int64(2), object(4)\n",
      "memory usage: 271.2+ KB\n"
     ]
    }
   ],
   "source": [
    "demography_data.info()"
   ]
  },
  {
   "cell_type": "code",
   "execution_count": 96,
   "metadata": {},
   "outputs": [
    {
     "data": {
      "text/plain": [
       "numpy.float64"
      ]
     },
     "execution_count": 96,
     "metadata": {},
     "output_type": "execute_result"
    }
   ],
   "source": [
    "type(demography_data['male_population'][0])"
   ]
  },
  {
   "cell_type": "code",
   "execution_count": 106,
   "metadata": {},
   "outputs": [],
   "source": [
    "def round_num(result):\n",
    "    if result == None:\n",
    "        return None\n",
    "    else:\n",
    "        return round(result)"
   ]
  },
  {
   "cell_type": "code",
   "execution_count": 107,
   "metadata": {},
   "outputs": [
    {
     "data": {
      "text/plain": [
       "34"
      ]
     },
     "execution_count": 107,
     "metadata": {},
     "output_type": "execute_result"
    }
   ],
   "source": [
    "number = 34.0\n",
    "\n",
    "round_num(number)"
   ]
  }
 ],
 "metadata": {
  "kernelspec": {
   "display_name": "Python 3",
   "language": "python",
   "name": "python3"
  },
  "language_info": {
   "codemirror_mode": {
    "name": "ipython",
    "version": 3
   },
   "file_extension": ".py",
   "mimetype": "text/x-python",
   "name": "python",
   "nbconvert_exporter": "python",
   "pygments_lexer": "ipython3",
   "version": "3.11.9"
  }
 },
 "nbformat": 4,
 "nbformat_minor": 2
}
